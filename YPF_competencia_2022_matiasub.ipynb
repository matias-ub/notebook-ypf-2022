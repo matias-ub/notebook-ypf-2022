{
  "nbformat": 4,
  "nbformat_minor": 0,
  "metadata": {
    "colab": {
      "provenance": []
    },
    "kernelspec": {
      "name": "python3",
      "display_name": "Python 3"
    },
    "language_info": {
      "name": "python"
    }
  },
  "cells": [
    {
      "cell_type": "markdown",
      "source": [
        "# Inteligencia Artificial para la Predicción de Incremental de Presiones por Interferencia\n",
        "\n",
        "Notebook para la competencia de YPF en conjunto con Fundación Sadoski\n",
        "\n",
        "Autor: Matías Ezequiel Uncal Bressi\n"
      ],
      "metadata": {
        "id": "xMJVkD7nzlvy"
      }
    },
    {
      "cell_type": "markdown",
      "source": [
        "## Introducción\n",
        "\n",
        "**Se presenta un ensemble de modelos.** Se plantea un clasificador + una regresión.\n",
        "\n",
        "Para ambos se toma cada par Pozo Padre - Pozo Hijo y se construye la serie temporal (utilziando la Etapa del Pozo Hijo como medida) sobre la variable a predecir. Este enfoque simple generó una diferencia sustancial en la puntuación final.\n",
        "\n",
        "Dentro de las variables generadas se encuentran:\n",
        "* Diferencias porcentuales para las variables numéricas.\n",
        "* Se agrega el valor 'anterior' de `delta_WHP`.\n",
        "* Para el ángulo se utilizan las funciones trigonométricas que modelan mejor la idea de círculo (360° = 0°).\n",
        "\n",
        "Otras variables que podrían ser útiles (pero que no fueron provistas y no se pueden derivar):\n",
        "* `FECHA_EVENTO` Si bien está la ETAPA_HIJO, ésta solo da una idea de temporalidad respecto al Pozo Hijo, no al Padre. Si un Padre tiene interacciones con diversos Pozos Hijos, al no tener la fecha de cada evento no se puede realizar una trazabilidad de la presión en el Pozo Padre.\n",
        "* `WHP_INYECTDA` No se si es constante o no. Si es siempre la misma para todos los Pozos Hijos, no tiene sentido agregarla. Pero si no es la misma, podría ser de gran utilidad. De hecho sería útil para dar una cota máxima de presión a inyectar en cada Etapa de cada Pozo Hijo."
      ],
      "metadata": {
        "id": "Ib_PmBmFshij"
      }
    },
    {
      "cell_type": "markdown",
      "source": [
        "## Nota sobre la puntuación y el envío final del CSV con el score\n",
        "\n",
        "**Para ambos modelos se utiliza información de Etapas anteriores** en las variables predictoras. **Nunca información futura** ya que si se quiere poner en práctica lo aquí expuesto sería imposible en la vida real.\n",
        "\n",
        "Es por esto que no se generan variables con granularidad Pozo Padre - Pozo Hijo sin tener en cuenta la Etapa en cuestión.\n",
        "\n",
        "Ahora bien, en el 1° meetup desde YPF dijeron que sí se podía. Por lo que al final, luego de realizar la predicción para el dataset de evaluación, se promedia el valor estimado con una media movil del valor real.\n"
      ],
      "metadata": {
        "id": "PUMZs0hMz3Cv"
      }
    },
    {
      "cell_type": "markdown",
      "source": [
        "## Librerías utilizadas"
      ],
      "metadata": {
        "id": "y-7pVa2pF4R3"
      }
    },
    {
      "cell_type": "code",
      "source": [
        "pip install catboost"
      ],
      "metadata": {
        "colab": {
          "base_uri": "https://localhost:8080/"
        },
        "id": "096PzhpZw1nm",
        "outputId": "55ad9ab1-25f6-44d1-d1f1-ecbb78eb6016"
      },
      "execution_count": null,
      "outputs": [
        {
          "output_type": "stream",
          "name": "stdout",
          "text": [
            "Looking in indexes: https://pypi.org/simple, https://us-python.pkg.dev/colab-wheels/public/simple/\n",
            "Collecting catboost\n",
            "  Downloading catboost-1.1.1-cp37-none-manylinux1_x86_64.whl (76.6 MB)\n",
            "\u001b[K     |████████████████████████████████| 76.6 MB 1.9 MB/s \n",
            "\u001b[?25hRequirement already satisfied: scipy in /usr/local/lib/python3.7/dist-packages (from catboost) (1.7.3)\n",
            "Requirement already satisfied: graphviz in /usr/local/lib/python3.7/dist-packages (from catboost) (0.10.1)\n",
            "Requirement already satisfied: matplotlib in /usr/local/lib/python3.7/dist-packages (from catboost) (3.2.2)\n",
            "Requirement already satisfied: numpy>=1.16.0 in /usr/local/lib/python3.7/dist-packages (from catboost) (1.21.6)\n",
            "Requirement already satisfied: pandas>=0.24.0 in /usr/local/lib/python3.7/dist-packages (from catboost) (1.3.5)\n",
            "Requirement already satisfied: six in /usr/local/lib/python3.7/dist-packages (from catboost) (1.15.0)\n",
            "Requirement already satisfied: plotly in /usr/local/lib/python3.7/dist-packages (from catboost) (5.5.0)\n",
            "Requirement already satisfied: pytz>=2017.3 in /usr/local/lib/python3.7/dist-packages (from pandas>=0.24.0->catboost) (2022.6)\n",
            "Requirement already satisfied: python-dateutil>=2.7.3 in /usr/local/lib/python3.7/dist-packages (from pandas>=0.24.0->catboost) (2.8.2)\n",
            "Requirement already satisfied: kiwisolver>=1.0.1 in /usr/local/lib/python3.7/dist-packages (from matplotlib->catboost) (1.4.4)\n",
            "Requirement already satisfied: cycler>=0.10 in /usr/local/lib/python3.7/dist-packages (from matplotlib->catboost) (0.11.0)\n",
            "Requirement already satisfied: pyparsing!=2.0.4,!=2.1.2,!=2.1.6,>=2.0.1 in /usr/local/lib/python3.7/dist-packages (from matplotlib->catboost) (3.0.9)\n",
            "Requirement already satisfied: typing-extensions in /usr/local/lib/python3.7/dist-packages (from kiwisolver>=1.0.1->matplotlib->catboost) (4.1.1)\n",
            "Requirement already satisfied: tenacity>=6.2.0 in /usr/local/lib/python3.7/dist-packages (from plotly->catboost) (8.1.0)\n",
            "Installing collected packages: catboost\n",
            "Successfully installed catboost-1.1.1\n"
          ]
        }
      ]
    },
    {
      "cell_type": "code",
      "source": [
        "import io\n",
        "import warnings\n",
        "import pandas as pd\n",
        "import numpy as np\n",
        "from google.colab import files\n",
        "from sklearn.model_selection import train_test_split\n",
        "from catboost import CatBoostRegressor, CatBoostClassifier, Pool\n",
        "from sklearn.metrics import r2_score, mean_squared_error, mean_absolute_error, roc_auc_score, accuracy_score\n",
        "\n",
        "%matplotlib inline\n",
        "pd.options.display.max_columns = 50\n",
        "warnings.filterwarnings(\"ignore\")"
      ],
      "metadata": {
        "id": "pWJ9fCxnF0cH"
      },
      "execution_count": null,
      "outputs": []
    },
    {
      "cell_type": "markdown",
      "source": [
        "## Se cargan los archivos a utilizar"
      ],
      "metadata": {
        "id": "-DR8cDfsRrpg"
      }
    },
    {
      "cell_type": "code",
      "source": [
        "uploaded = files.upload()"
      ],
      "metadata": {
        "colab": {
          "base_uri": "https://localhost:8080/",
          "height": 108
        },
        "id": "mB3BVOCOGxJC",
        "outputId": "41f045d5-9483-4808-f6d1-c3a39142914a"
      },
      "execution_count": null,
      "outputs": [
        {
          "output_type": "display_data",
          "data": {
            "text/plain": [
              "<IPython.core.display.HTML object>"
            ],
            "text/html": [
              "\n",
              "     <input type=\"file\" id=\"files-035e70e0-6326-4de7-b71e-c00253d8d3a7\" name=\"files[]\" multiple disabled\n",
              "        style=\"border:none\" />\n",
              "     <output id=\"result-035e70e0-6326-4de7-b71e-c00253d8d3a7\">\n",
              "      Upload widget is only available when the cell has been executed in the\n",
              "      current browser session. Please rerun this cell to enable.\n",
              "      </output>\n",
              "      <script>// Copyright 2017 Google LLC\n",
              "//\n",
              "// Licensed under the Apache License, Version 2.0 (the \"License\");\n",
              "// you may not use this file except in compliance with the License.\n",
              "// You may obtain a copy of the License at\n",
              "//\n",
              "//      http://www.apache.org/licenses/LICENSE-2.0\n",
              "//\n",
              "// Unless required by applicable law or agreed to in writing, software\n",
              "// distributed under the License is distributed on an \"AS IS\" BASIS,\n",
              "// WITHOUT WARRANTIES OR CONDITIONS OF ANY KIND, either express or implied.\n",
              "// See the License for the specific language governing permissions and\n",
              "// limitations under the License.\n",
              "\n",
              "/**\n",
              " * @fileoverview Helpers for google.colab Python module.\n",
              " */\n",
              "(function(scope) {\n",
              "function span(text, styleAttributes = {}) {\n",
              "  const element = document.createElement('span');\n",
              "  element.textContent = text;\n",
              "  for (const key of Object.keys(styleAttributes)) {\n",
              "    element.style[key] = styleAttributes[key];\n",
              "  }\n",
              "  return element;\n",
              "}\n",
              "\n",
              "// Max number of bytes which will be uploaded at a time.\n",
              "const MAX_PAYLOAD_SIZE = 100 * 1024;\n",
              "\n",
              "function _uploadFiles(inputId, outputId) {\n",
              "  const steps = uploadFilesStep(inputId, outputId);\n",
              "  const outputElement = document.getElementById(outputId);\n",
              "  // Cache steps on the outputElement to make it available for the next call\n",
              "  // to uploadFilesContinue from Python.\n",
              "  outputElement.steps = steps;\n",
              "\n",
              "  return _uploadFilesContinue(outputId);\n",
              "}\n",
              "\n",
              "// This is roughly an async generator (not supported in the browser yet),\n",
              "// where there are multiple asynchronous steps and the Python side is going\n",
              "// to poll for completion of each step.\n",
              "// This uses a Promise to block the python side on completion of each step,\n",
              "// then passes the result of the previous step as the input to the next step.\n",
              "function _uploadFilesContinue(outputId) {\n",
              "  const outputElement = document.getElementById(outputId);\n",
              "  const steps = outputElement.steps;\n",
              "\n",
              "  const next = steps.next(outputElement.lastPromiseValue);\n",
              "  return Promise.resolve(next.value.promise).then((value) => {\n",
              "    // Cache the last promise value to make it available to the next\n",
              "    // step of the generator.\n",
              "    outputElement.lastPromiseValue = value;\n",
              "    return next.value.response;\n",
              "  });\n",
              "}\n",
              "\n",
              "/**\n",
              " * Generator function which is called between each async step of the upload\n",
              " * process.\n",
              " * @param {string} inputId Element ID of the input file picker element.\n",
              " * @param {string} outputId Element ID of the output display.\n",
              " * @return {!Iterable<!Object>} Iterable of next steps.\n",
              " */\n",
              "function* uploadFilesStep(inputId, outputId) {\n",
              "  const inputElement = document.getElementById(inputId);\n",
              "  inputElement.disabled = false;\n",
              "\n",
              "  const outputElement = document.getElementById(outputId);\n",
              "  outputElement.innerHTML = '';\n",
              "\n",
              "  const pickedPromise = new Promise((resolve) => {\n",
              "    inputElement.addEventListener('change', (e) => {\n",
              "      resolve(e.target.files);\n",
              "    });\n",
              "  });\n",
              "\n",
              "  const cancel = document.createElement('button');\n",
              "  inputElement.parentElement.appendChild(cancel);\n",
              "  cancel.textContent = 'Cancel upload';\n",
              "  const cancelPromise = new Promise((resolve) => {\n",
              "    cancel.onclick = () => {\n",
              "      resolve(null);\n",
              "    };\n",
              "  });\n",
              "\n",
              "  // Wait for the user to pick the files.\n",
              "  const files = yield {\n",
              "    promise: Promise.race([pickedPromise, cancelPromise]),\n",
              "    response: {\n",
              "      action: 'starting',\n",
              "    }\n",
              "  };\n",
              "\n",
              "  cancel.remove();\n",
              "\n",
              "  // Disable the input element since further picks are not allowed.\n",
              "  inputElement.disabled = true;\n",
              "\n",
              "  if (!files) {\n",
              "    return {\n",
              "      response: {\n",
              "        action: 'complete',\n",
              "      }\n",
              "    };\n",
              "  }\n",
              "\n",
              "  for (const file of files) {\n",
              "    const li = document.createElement('li');\n",
              "    li.append(span(file.name, {fontWeight: 'bold'}));\n",
              "    li.append(span(\n",
              "        `(${file.type || 'n/a'}) - ${file.size} bytes, ` +\n",
              "        `last modified: ${\n",
              "            file.lastModifiedDate ? file.lastModifiedDate.toLocaleDateString() :\n",
              "                                    'n/a'} - `));\n",
              "    const percent = span('0% done');\n",
              "    li.appendChild(percent);\n",
              "\n",
              "    outputElement.appendChild(li);\n",
              "\n",
              "    const fileDataPromise = new Promise((resolve) => {\n",
              "      const reader = new FileReader();\n",
              "      reader.onload = (e) => {\n",
              "        resolve(e.target.result);\n",
              "      };\n",
              "      reader.readAsArrayBuffer(file);\n",
              "    });\n",
              "    // Wait for the data to be ready.\n",
              "    let fileData = yield {\n",
              "      promise: fileDataPromise,\n",
              "      response: {\n",
              "        action: 'continue',\n",
              "      }\n",
              "    };\n",
              "\n",
              "    // Use a chunked sending to avoid message size limits. See b/62115660.\n",
              "    let position = 0;\n",
              "    do {\n",
              "      const length = Math.min(fileData.byteLength - position, MAX_PAYLOAD_SIZE);\n",
              "      const chunk = new Uint8Array(fileData, position, length);\n",
              "      position += length;\n",
              "\n",
              "      const base64 = btoa(String.fromCharCode.apply(null, chunk));\n",
              "      yield {\n",
              "        response: {\n",
              "          action: 'append',\n",
              "          file: file.name,\n",
              "          data: base64,\n",
              "        },\n",
              "      };\n",
              "\n",
              "      let percentDone = fileData.byteLength === 0 ?\n",
              "          100 :\n",
              "          Math.round((position / fileData.byteLength) * 100);\n",
              "      percent.textContent = `${percentDone}% done`;\n",
              "\n",
              "    } while (position < fileData.byteLength);\n",
              "  }\n",
              "\n",
              "  // All done.\n",
              "  yield {\n",
              "    response: {\n",
              "      action: 'complete',\n",
              "    }\n",
              "  };\n",
              "}\n",
              "\n",
              "scope.google = scope.google || {};\n",
              "scope.google.colab = scope.google.colab || {};\n",
              "scope.google.colab._files = {\n",
              "  _uploadFiles,\n",
              "  _uploadFilesContinue,\n",
              "};\n",
              "})(self);\n",
              "</script> "
            ]
          },
          "metadata": {}
        },
        {
          "output_type": "stream",
          "name": "stdout",
          "text": [
            "Saving Dataset evaluación.csv to Dataset evaluación.csv\n",
            "Saving Dataset participantes.csv to Dataset participantes.csv\n"
          ]
        }
      ]
    },
    {
      "cell_type": "code",
      "source": [
        "df_train = pd.read_csv(io.StringIO(uploaded['Dataset participantes.csv'].decode('utf-8')), index_col='ID_FILA')\n",
        "df_eval = pd.read_csv(io.StringIO(uploaded['Dataset evaluación.csv'].decode('utf-8')), index_col='ID_FILA')"
      ],
      "metadata": {
        "id": "kJIuSmIMIBNQ"
      },
      "execution_count": null,
      "outputs": []
    },
    {
      "cell_type": "markdown",
      "source": [
        "## Análisis del dataset de entrenamiento\n",
        "\n",
        "Se hace foco en la variable a predecir.\n",
        "\n"
      ],
      "metadata": {
        "id": "V9jPIFd6GbC1"
      }
    },
    {
      "cell_type": "code",
      "source": [
        "# Vemos la distribución\n",
        "\n",
        "df_train['delta_WHP'].hist(bins=20)"
      ],
      "metadata": {
        "colab": {
          "base_uri": "https://localhost:8080/",
          "height": 282
        },
        "id": "RKqwQjrrRohk",
        "outputId": "f82e4574-45fa-4b77-c3a0-36c1a08be246"
      },
      "execution_count": null,
      "outputs": [
        {
          "output_type": "execute_result",
          "data": {
            "text/plain": [
              "<matplotlib.axes._subplots.AxesSubplot at 0x7f29306972d0>"
            ]
          },
          "metadata": {},
          "execution_count": 5
        },
        {
          "output_type": "display_data",
          "data": {
            "text/plain": [
              "<Figure size 432x288 with 1 Axes>"
            ],
            "image/png": "[encoded data removed]"
          },
          "metadata": {
            "needs_background": "light"
          }
        }
      ]
    },
    {
      "cell_type": "code",
      "source": [
        "# Vemos que la basta mayoría son exactamente 0\n",
        "\n",
        "df_train['delta_WHP'].value_counts()"
      ],
      "metadata": {
        "colab": {
          "base_uri": "https://localhost:8080/"
        },
        "id": "PkqME-yeR8zH",
        "outputId": "95acd592-f356-4b37-afe5-c2bd02d48818"
      },
      "execution_count": null,
      "outputs": [
        {
          "output_type": "execute_result",
          "data": {
            "text/plain": [
              "0.0      23053\n",
              "0.6         43\n",
              "0.7         42\n",
              "1.3         40\n",
              "0.3         40\n",
              "         ...  \n",
              "88.4         1\n",
              "45.7         1\n",
              "20.2         1\n",
              "156.6        1\n",
              "67.8         1\n",
              "Name: delta_WHP, Length: 609, dtype: int64"
            ]
          },
          "metadata": {},
          "execution_count": 6
        }
      ]
    },
    {
      "cell_type": "code",
      "source": [
        "# Vemos la distribución de la variable a predecir sin contar los 0. Vemos que es muy asimétrica y tiene valores negativos.\n",
        "# Esto último complica la posibilidad de realizar una transformación logarítmica de la misma.\n",
        "\n",
        "print('Coef de asimetría: ' + str(round(df_train.loc[df_train['delta_WHP'] != 0, 'delta_WHP'].skew(), 2)))\n",
        "df_train.loc[df_train['delta_WHP'] != 0, 'delta_WHP'].hist(bins=40)"
      ],
      "metadata": {
        "colab": {
          "base_uri": "https://localhost:8080/",
          "height": 302
        },
        "id": "wbMMfKzQWt1o",
        "outputId": "cc76d133-93a0-4ea5-deb8-158723b119a3"
      },
      "execution_count": null,
      "outputs": [
        {
          "output_type": "stream",
          "name": "stdout",
          "text": [
            "Coef de asimetría: 3.47\n"
          ]
        },
        {
          "output_type": "execute_result",
          "data": {
            "text/plain": [
              "<matplotlib.axes._subplots.AxesSubplot at 0x7f2926efc490>"
            ]
          },
          "metadata": {},
          "execution_count": 7
        },
        {
          "output_type": "display_data",
          "data": {
            "text/plain": [
              "<Figure size 432x288 with 1 Axes>"
            ],
            "image/png": "[encoded data removed]"
          },
          "metadata": {
            "needs_background": "light"
          }
        }
      ]
    },
    {
      "cell_type": "markdown",
      "source": [
        "Se concluye que lo mejor es realizar 2 modelos:\n",
        "*   Uno de clasificación (ocurre o no ocurre frac-hit - `delta_WHP != 0` o `delta_WHP == 0`)\n",
        "\n",
        "*   Uno de regresión para tratar de estimar el valor de delta_WHP"
      ],
      "metadata": {
        "id": "Tzw0nFJzIKpz"
      }
    },
    {
      "cell_type": "markdown",
      "source": [
        "## Funciones de limpieza / Generación de features"
      ],
      "metadata": {
        "id": "dbPkcoaTIQeE"
      }
    },
    {
      "cell_type": "code",
      "source": [
        "def percentage_dif(current, previous):\n",
        "    # Devuelve la diferencia porcentual entre 2 valores\n",
        "    return round((current - previous) / previous, 3)\n",
        "\n",
        "def clean_df(df):\n",
        "    \n",
        "    # Se ordena, porque se iterará sobre el dataset y se toma como una serie temporal cada etapa entre un Padre-Hijo\n",
        "    df.sort_values(['PAD_HIJO', 'HIJO', 'PADRE', 'ETAPA_HIJO'], inplace = True)\n",
        "    df.reset_index(inplace = True)\n",
        "    \n",
        "    # Se generan algunas variables dicotómicas\n",
        "    df['FLUIDO'] = np.where(df['FLUIDO'] == 'GAS', 1, 0)\n",
        "    df['LINEAMIENTO'] = np.where(df['LINEAMIENTO'] == 'SI', 1, 0)\n",
        "    df['ESTADO'] = np.where(df['ESTADO'] == 'Abierto', 1, 0)\n",
        "    \n",
        "    # Se corrigen algunos valores\n",
        "    df['AZ'] = np.where(df['AZ'] < 0, 0, df['AZ'])\n",
        "    df['WHP_i'] = np.where(df['WHP_i'] < 0, 0, df['WHP_i'])\n",
        "    df['D3D'] = np.where(df['D3D'] > 100 * df['D2D'], df['D3D'] / 1000, df['D3D'])\n",
        "    df['D2D'] = np.where(df['D2D'] > 100 * df['D3D'], df['D2D'] / 1000, df['D2D'])\n",
        "    \n",
        "    # Se generan nuevas variables\n",
        "    # ---------------------------\n",
        "      # Variable dicotómica que se utilizará como target para el clasificador (Hay / No hay Frac-Hit)\n",
        "    df['delta_WHP_0'] = np.where(df['delta_WHP'] == 0, 0, 1)\n",
        "\n",
        "      # Para el ángulo trabajamos con las funciones seno / coseno\n",
        "    df['sen_AZ'] = round(np.sin(df['AZ']*np.pi/180), 3)\n",
        "    df['cos_AZ'] = round(np.cos(df['AZ']*np.pi/180), 3)\n",
        "    \n",
        "      # Estandarizo las distancias y agrego la presión inicial también estandarizada\n",
        "    df['D3D'] = round((df['D3D'] - np.mean(df['D3D'])) / np.std(df['D3D']), 3)\n",
        "    df['D2D'] = round((df['D2D'] - np.mean(df['D2D'])) / np.std(df['D2D']), 3)            \n",
        "    df['DZ'] = round((df['DZ'] - np.mean(df['DZ'])) / np.std(df['DZ']), 3)\n",
        "    df['WHP_i_std'] = round((df['WHP_i'] - np.mean(df['WHP_i'])) / np.std(df['WHP_i']), 3)\n",
        "\n",
        "      # Diferencia porcentual para algunas variables (se calculan más abajo)\n",
        "    df['pct_dif_D3D'] = np.NaN\n",
        "    df['pct_dif_D2D'] = np.NaN\n",
        "    df['pct_dif_DZ'] = np.NaN\n",
        "    df['pct_dif_WHP_i'] = np.NaN\n",
        "      \n",
        "      # Diferencia entre etapas\n",
        "    df['dif_ETAPA_HIJO'] = np.NaN\n",
        "\n",
        "      # El valor anterior del delta_WHP\n",
        "    df['ant_delta_WHP'] = np.NaN\n",
        "\n",
        "    # Media móvil y valor posterior de delta_WHP (para mejorar score, solo se utilizan al final, no influyen en el modelo)\n",
        "    df['media_movil_delta_WHP'] = np.NaN\n",
        "    df['pos_delta_WHP'] = np.NaN\n",
        "    \n",
        "    # Ahora si vamos a iterar sobre el dataset ordenado, y vamos a calcular los valores de diferencia_porcentual / etc\n",
        "    last_idx = 0\n",
        "    for i in range(1, df.shape[0]-1):\n",
        "        \n",
        "        # Si la fila anterior tiene el mismo Padre y el mismo Hijo, podemos calcular las diferencias\n",
        "        if (df.at[i, 'PADRE'] == df.at[i-1, 'PADRE']) and (df.at[i, 'HIJO'] == df.at[i-1, 'HIJO']):\n",
        "            \n",
        "            df.at[i, 'pct_dif_D3D'] = percentage_dif(df.at[i, 'D3D'], df.at[i-1, 'D3D'])\n",
        "            df.at[i, 'pct_dif_D2D'] = percentage_dif(df.at[i, 'D2D'], df.at[i-1, 'D2D'])\n",
        "            df.at[i, 'pct_dif_DZ'] = percentage_dif(df.at[i, 'DZ'], df.at[i-1, 'DZ'])\n",
        "            df.at[i, 'pct_dif_WHP_i'] = percentage_dif(df.at[i, 'WHP_i'], df.at[i-1, 'WHP_i'])\n",
        "            \n",
        "            df.at[i, 'dif_ETAPA_HIJO'] = df.at[i, 'ETAPA_HIJO'] - df.at[i-1, 'ETAPA_HIJO']\n",
        "\n",
        "            df.at[i, 'ant_delta_WHP'] = df.at[i-1, 'delta_WHP']\n",
        "            \n",
        "            if (df.at[i, 'PADRE'] == df.at[i+1, 'PADRE']) and (df.at[i, 'HIJO'] == df.at[i+1, 'HIJO']):\n",
        "\n",
        "                df.at[i, 'media_movil_delta_WHP'] = (df.at[i-1, 'delta_WHP'] + df.at[i+1, 'delta_WHP']) / 2\n",
        "                df.at[i, 'pos_delta_WHP'] = df.at[i+1, 'delta_WHP']\n",
        "\n",
        "              \n",
        "        else:\n",
        "\n",
        "            last_idx = i\n",
        "\n",
        "            if (df.at[i, 'PADRE'] == df.at[i+1, 'PADRE']) and (df.at[i, 'HIJO'] == df.at[i+1, 'HIJO']):\n",
        "\n",
        "                df.at[i, 'pos_delta_WHP'] = df.at[i+1, 'delta_WHP']\n",
        "            \n",
        "    return df"
      ],
      "metadata": {
        "id": "jbHbcVETIW4p"
      },
      "execution_count": null,
      "outputs": []
    },
    {
      "cell_type": "markdown",
      "source": [
        "## Proceso de entrenamiento"
      ],
      "metadata": {
        "id": "3Rk9XLXv7ptF"
      }
    },
    {
      "cell_type": "code",
      "source": [
        "# Se cargan los dataframes\n",
        "# Se concatenan el de evaluación con el de entrenamiento debido a que necesitamos información de las etapas anteriores\n",
        "\n",
        "df_train['TIPO'] = 'Train'\n",
        "df_eval['TIPO'] = 'Eval'\n",
        "df_total = pd.concat([df_train, df_eval])\n",
        "df_total = clean_df(df_total)\n",
        "df_train = clean_df(df_train)"
      ],
      "metadata": {
        "id": "69gwpBj2MFjP"
      },
      "execution_count": null,
      "outputs": []
    },
    {
      "cell_type": "code",
      "source": [
        "# Vemos una muestra de los datos procesados\n",
        "\n",
        "df_total.head()"
      ],
      "metadata": {
        "colab": {
          "base_uri": "https://localhost:8080/",
          "height": 357
        },
        "id": "UC4YSrXqpXrv",
        "outputId": "d341d809-d285-4ccf-8692-0297e7973761"
      },
      "execution_count": null,
      "outputs": [
        {
          "output_type": "execute_result",
          "data": {
            "text/plain": [
              "   ID_FILA           ID_EVENTO    CAMPO  FLUIDO PAD_HIJO      HIJO  \\\n",
              "0    11490  Pozo 461-Pozo 1-19  Campo A       1    PAD-1  Pozo 461   \n",
              "1    11353  Pozo 461-Pozo 1-22  Campo A       1    PAD-1  Pozo 461   \n",
              "2    11398  Pozo 461-Pozo 1-24  Campo A       1    PAD-1  Pozo 461   \n",
              "3    11403  Pozo 461-Pozo 1-30  Campo A       1    PAD-1  Pozo 461   \n",
              "4    11486   Pozo 461-Pozo 4-1  Campo A       1    PAD-1  Pozo 461   \n",
              "\n",
              "   ETAPA_HIJO   PADRE    D3D    D2D     DZ          AZ  #_BARRERAS  \\\n",
              "0          19  Pozo 1 -1.621 -1.615 -0.707  278.349032         0.0   \n",
              "1          22  Pozo 1 -1.604 -1.598 -0.648  266.146420         1.0   \n",
              "2          24  Pozo 1 -1.591 -1.585 -0.640  278.815790         0.0   \n",
              "3          30  Pozo 1 -1.613 -1.607 -0.577  279.782291         0.0   \n",
              "4           1  Pozo 4 -1.635 -1.629 -0.674  264.238475         0.0   \n",
              "\n",
              "   LINEAMIENTO  WHP_i  delta_WHP  ESTADO   TIPO  delta_WHP_0  sen_AZ  cos_AZ  \\\n",
              "0            0  108.6       -1.3       1  Train            1  -0.989   0.145   \n",
              "1            0  104.6        3.6       1  Train            1  -0.998  -0.067   \n",
              "2            0  105.9        2.4       1  Train            1  -0.988   0.153   \n",
              "3            0  106.0       -1.3       1  Train            1  -0.985   0.170   \n",
              "4            0  108.4        2.3       1  Train            1  -0.995  -0.100   \n",
              "\n",
              "   WHP_i_std  pct_dif_D3D  pct_dif_D2D  pct_dif_DZ  pct_dif_WHP_i  \\\n",
              "0     -0.240          NaN          NaN         NaN            NaN   \n",
              "1     -0.272       -0.010       -0.011      -0.083         -0.037   \n",
              "2     -0.261       -0.008       -0.008      -0.012          0.012   \n",
              "3     -0.261        0.014        0.014      -0.098          0.001   \n",
              "4     -0.242          NaN          NaN         NaN            NaN   \n",
              "\n",
              "   dif_ETAPA_HIJO  ant_delta_WHP  media_movil_delta_WHP  pos_delta_WHP  \n",
              "0             NaN            NaN                    NaN            NaN  \n",
              "1             3.0           -1.3                   0.55            2.4  \n",
              "2             2.0            3.6                   1.15           -1.3  \n",
              "3             6.0            2.4                    NaN            NaN  \n",
              "4             NaN            NaN                    NaN            4.5  "
            ],
            "text/html": [
              "\n",
              "  <div id=\"df-23c33530-b064-48f9-958f-4a787c5478ae\">\n",
              "    <div class=\"colab-df-container\">\n",
              "      <div>\n",
              "<style scoped>\n",
              "    .dataframe tbody tr th:only-of-type {\n",
              "        vertical-align: middle;\n",
              "    }\n",
              "\n",
              "    .dataframe tbody tr th {\n",
              "        vertical-align: top;\n",
              "    }\n",
              "\n",
              "    .dataframe thead th {\n",
              "        text-align: right;\n",
              "    }\n",
              "</style>\n",
              "<table border=\"1\" class=\"dataframe\">\n",
              "  <thead>\n",
              "    <tr style=\"text-align: right;\">\n",
              "      <th></th>\n",
              "      <th>ID_FILA</th>\n",
              "      <th>ID_EVENTO</th>\n",
              "      <th>CAMPO</th>\n",
              "      <th>FLUIDO</th>\n",
              "      <th>PAD_HIJO</th>\n",
              "      <th>HIJO</th>\n",
              "      <th>ETAPA_HIJO</th>\n",
              "      <th>PADRE</th>\n",
              "      <th>D3D</th>\n",
              "      <th>D2D</th>\n",
              "      <th>DZ</th>\n",
              "      <th>AZ</th>\n",
              "      <th>#_BARRERAS</th>\n",
              "      <th>LINEAMIENTO</th>\n",
              "      <th>WHP_i</th>\n",
              "      <th>delta_WHP</th>\n",
              "      <th>ESTADO</th>\n",
              "      <th>TIPO</th>\n",
              "      <th>delta_WHP_0</th>\n",
              "      <th>sen_AZ</th>\n",
              "      <th>cos_AZ</th>\n",
              "      <th>WHP_i_std</th>\n",
              "      <th>pct_dif_D3D</th>\n",
              "      <th>pct_dif_D2D</th>\n",
              "      <th>pct_dif_DZ</th>\n",
              "      <th>pct_dif_WHP_i</th>\n",
              "      <th>dif_ETAPA_HIJO</th>\n",
              "      <th>ant_delta_WHP</th>\n",
              "      <th>media_movil_delta_WHP</th>\n",
              "      <th>pos_delta_WHP</th>\n",
              "    </tr>\n",
              "  </thead>\n",
              "  <tbody>\n",
              "    <tr>\n",
              "      <th>0</th>\n",
              "      <td>11490</td>\n",
              "      <td>Pozo 461-Pozo 1-19</td>\n",
              "      <td>Campo A</td>\n",
              "      <td>1</td>\n",
              "      <td>PAD-1</td>\n",
              "      <td>Pozo 461</td>\n",
              "      <td>19</td>\n",
              "      <td>Pozo 1</td>\n",
              "      <td>-1.621</td>\n",
              "      <td>-1.615</td>\n",
              "      <td>-0.707</td>\n",
              "      <td>278.349032</td>\n",
              "      <td>0.0</td>\n",
              "      <td>0</td>\n",
              "      <td>108.6</td>\n",
              "      <td>-1.3</td>\n",
              "      <td>1</td>\n",
              "      <td>Train</td>\n",
              "      <td>1</td>\n",
              "      <td>-0.989</td>\n",
              "      <td>0.145</td>\n",
              "      <td>-0.240</td>\n",
              "      <td>NaN</td>\n",
              "      <td>NaN</td>\n",
              "      <td>NaN</td>\n",
              "      <td>NaN</td>\n",
              "      <td>NaN</td>\n",
              "      <td>NaN</td>\n",
              "      <td>NaN</td>\n",
              "      <td>NaN</td>\n",
              "    </tr>\n",
              "    <tr>\n",
              "      <th>1</th>\n",
              "      <td>11353</td>\n",
              "      <td>Pozo 461-Pozo 1-22</td>\n",
              "      <td>Campo A</td>\n",
              "      <td>1</td>\n",
              "      <td>PAD-1</td>\n",
              "      <td>Pozo 461</td>\n",
              "      <td>22</td>\n",
              "      <td>Pozo 1</td>\n",
              "      <td>-1.604</td>\n",
              "      <td>-1.598</td>\n",
              "      <td>-0.648</td>\n",
              "      <td>266.146420</td>\n",
              "      <td>1.0</td>\n",
              "      <td>0</td>\n",
              "      <td>104.6</td>\n",
              "      <td>3.6</td>\n",
              "      <td>1</td>\n",
              "      <td>Train</td>\n",
              "      <td>1</td>\n",
              "      <td>-0.998</td>\n",
              "      <td>-0.067</td>\n",
              "      <td>-0.272</td>\n",
              "      <td>-0.010</td>\n",
              "      <td>-0.011</td>\n",
              "      <td>-0.083</td>\n",
              "      <td>-0.037</td>\n",
              "      <td>3.0</td>\n",
              "      <td>-1.3</td>\n",
              "      <td>0.55</td>\n",
              "      <td>2.4</td>\n",
              "    </tr>\n",
              "    <tr>\n",
              "      <th>2</th>\n",
              "      <td>11398</td>\n",
              "      <td>Pozo 461-Pozo 1-24</td>\n",
              "      <td>Campo A</td>\n",
              "      <td>1</td>\n",
              "      <td>PAD-1</td>\n",
              "      <td>Pozo 461</td>\n",
              "      <td>24</td>\n",
              "      <td>Pozo 1</td>\n",
              "      <td>-1.591</td>\n",
              "      <td>-1.585</td>\n",
              "      <td>-0.640</td>\n",
              "      <td>278.815790</td>\n",
              "      <td>0.0</td>\n",
              "      <td>0</td>\n",
              "      <td>105.9</td>\n",
              "      <td>2.4</td>\n",
              "      <td>1</td>\n",
              "      <td>Train</td>\n",
              "      <td>1</td>\n",
              "      <td>-0.988</td>\n",
              "      <td>0.153</td>\n",
              "      <td>-0.261</td>\n",
              "      <td>-0.008</td>\n",
              "      <td>-0.008</td>\n",
              "      <td>-0.012</td>\n",
              "      <td>0.012</td>\n",
              "      <td>2.0</td>\n",
              "      <td>3.6</td>\n",
              "      <td>1.15</td>\n",
              "      <td>-1.3</td>\n",
              "    </tr>\n",
              "    <tr>\n",
              "      <th>3</th>\n",
              "      <td>11403</td>\n",
              "      <td>Pozo 461-Pozo 1-30</td>\n",
              "      <td>Campo A</td>\n",
              "      <td>1</td>\n",
              "      <td>PAD-1</td>\n",
              "      <td>Pozo 461</td>\n",
              "      <td>30</td>\n",
              "      <td>Pozo 1</td>\n",
              "      <td>-1.613</td>\n",
              "      <td>-1.607</td>\n",
              "      <td>-0.577</td>\n",
              "      <td>279.782291</td>\n",
              "      <td>0.0</td>\n",
              "      <td>0</td>\n",
              "      <td>106.0</td>\n",
              "      <td>-1.3</td>\n",
              "      <td>1</td>\n",
              "      <td>Train</td>\n",
              "      <td>1</td>\n",
              "      <td>-0.985</td>\n",
              "      <td>0.170</td>\n",
              "      <td>-0.261</td>\n",
              "      <td>0.014</td>\n",
              "      <td>0.014</td>\n",
              "      <td>-0.098</td>\n",
              "      <td>0.001</td>\n",
              "      <td>6.0</td>\n",
              "      <td>2.4</td>\n",
              "      <td>NaN</td>\n",
              "      <td>NaN</td>\n",
              "    </tr>\n",
              "    <tr>\n",
              "      <th>4</th>\n",
              "      <td>11486</td>\n",
              "      <td>Pozo 461-Pozo 4-1</td>\n",
              "      <td>Campo A</td>\n",
              "      <td>1</td>\n",
              "      <td>PAD-1</td>\n",
              "      <td>Pozo 461</td>\n",
              "      <td>1</td>\n",
              "      <td>Pozo 4</td>\n",
              "      <td>-1.635</td>\n",
              "      <td>-1.629</td>\n",
              "      <td>-0.674</td>\n",
              "      <td>264.238475</td>\n",
              "      <td>0.0</td>\n",
              "      <td>0</td>\n",
              "      <td>108.4</td>\n",
              "      <td>2.3</td>\n",
              "      <td>1</td>\n",
              "      <td>Train</td>\n",
              "      <td>1</td>\n",
              "      <td>-0.995</td>\n",
              "      <td>-0.100</td>\n",
              "      <td>-0.242</td>\n",
              "      <td>NaN</td>\n",
              "      <td>NaN</td>\n",
              "      <td>NaN</td>\n",
              "      <td>NaN</td>\n",
              "      <td>NaN</td>\n",
              "      <td>NaN</td>\n",
              "      <td>NaN</td>\n",
              "      <td>4.5</td>\n",
              "    </tr>\n",
              "  </tbody>\n",
              "</table>\n",
              "</div>\n",
              "      <button class=\"colab-df-convert\" onclick=\"convertToInteractive('df-23c33530-b064-48f9-958f-4a787c5478ae')\"\n",
              "              title=\"Convert this dataframe to an interactive table.\"\n",
              "              style=\"display:none;\">\n",
              "        \n",
              "  <svg xmlns=\"http://www.w3.org/2000/svg\" height=\"24px\"viewBox=\"0 0 24 24\"\n",
              "       width=\"24px\">\n",
              "    <path d=\"M0 0h24v24H0V0z\" fill=\"none\"/>\n",
              "    <path d=\"M18.56 5.44l.94 2.06.94-2.06 2.06-.94-2.06-.94-.94-2.06-.94 2.06-2.06.94zm-11 1L8.5 8.5l.94-2.06 2.06-.94-2.06-.94L8.5 2.5l-.94 2.06-2.06.94zm10 10l.94 2.06.94-2.06 2.06-.94-2.06-.94-.94-2.06-.94 2.06-2.06.94z\"/><path d=\"M17.41 7.96l-1.37-1.37c-.4-.4-.92-.59-1.43-.59-.52 0-1.04.2-1.43.59L10.3 9.45l-7.72 7.72c-.78.78-.78 2.05 0 2.83L4 21.41c.39.39.9.59 1.41.59.51 0 1.02-.2 1.41-.59l7.78-7.78 2.81-2.81c.8-.78.8-2.07 0-2.86zM5.41 20L4 18.59l7.72-7.72 1.47 1.35L5.41 20z\"/>\n",
              "  </svg>\n",
              "      </button>\n",
              "      \n",
              "  <style>\n",
              "    .colab-df-container {\n",
              "      display:flex;\n",
              "      flex-wrap:wrap;\n",
              "      gap: 12px;\n",
              "    }\n",
              "\n",
              "    .colab-df-convert {\n",
              "      background-color: #E8F0FE;\n",
              "      border: none;\n",
              "      border-radius: 50%;\n",
              "      cursor: pointer;\n",
              "      display: none;\n",
              "      fill: #1967D2;\n",
              "      height: 32px;\n",
              "      padding: 0 0 0 0;\n",
              "      width: 32px;\n",
              "    }\n",
              "\n",
              "    .colab-df-convert:hover {\n",
              "      background-color: #E2EBFA;\n",
              "      box-shadow: 0px 1px 2px rgba(60, 64, 67, 0.3), 0px 1px 3px 1px rgba(60, 64, 67, 0.15);\n",
              "      fill: #174EA6;\n",
              "    }\n",
              "\n",
              "    [theme=dark] .colab-df-convert {\n",
              "      background-color: #3B4455;\n",
              "      fill: #D2E3FC;\n",
              "    }\n",
              "\n",
              "    [theme=dark] .colab-df-convert:hover {\n",
              "      background-color: #434B5C;\n",
              "      box-shadow: 0px 1px 3px 1px rgba(0, 0, 0, 0.15);\n",
              "      filter: drop-shadow(0px 1px 2px rgba(0, 0, 0, 0.3));\n",
              "      fill: #FFFFFF;\n",
              "    }\n",
              "  </style>\n",
              "\n",
              "      <script>\n",
              "        const buttonEl =\n",
              "          document.querySelector('#df-23c33530-b064-48f9-958f-4a787c5478ae button.colab-df-convert');\n",
              "        buttonEl.style.display =\n",
              "          google.colab.kernel.accessAllowed ? 'block' : 'none';\n",
              "\n",
              "        async function convertToInteractive(key) {\n",
              "          const element = document.querySelector('#df-23c33530-b064-48f9-958f-4a787c5478ae');\n",
              "          const dataTable =\n",
              "            await google.colab.kernel.invokeFunction('convertToInteractive',\n",
              "                                                     [key], {});\n",
              "          if (!dataTable) return;\n",
              "\n",
              "          const docLinkHtml = 'Like what you see? Visit the ' +\n",
              "            '<a target=\"_blank\" href=https://colab.research.google.com/notebooks/data_table.ipynb>data table notebook</a>'\n",
              "            + ' to learn more about interactive tables.';\n",
              "          element.innerHTML = '';\n",
              "          dataTable['output_type'] = 'display_data';\n",
              "          await google.colab.output.renderOutput(dataTable, element);\n",
              "          const docLink = document.createElement('div');\n",
              "          docLink.innerHTML = docLinkHtml;\n",
              "          element.appendChild(docLink);\n",
              "        }\n",
              "      </script>\n",
              "    </div>\n",
              "  </div>\n",
              "  "
            ]
          },
          "metadata": {},
          "execution_count": 10
        }
      ]
    },
    {
      "cell_type": "code",
      "source": [
        "# Se separa en train (70%) / test (30%)\n",
        "# Notar que 'pos_delta_WHP' y 'media_movil_delta_WHP' NO se encuentran presentes en la lista de variables a utilizar\n",
        "\n",
        "X = df_train[[\n",
        "        'CAMPO', 'PADRE', 'HIJO', 'PAD_HIJO',                                 # Variables categóricas\n",
        "        'FLUIDO', 'LINEAMIENTO', 'ESTADO',                                    # Variables dicotómicas\n",
        "        'ETAPA_HIJO', 'D3D', 'D2D', 'DZ', '#_BARRERAS', 'WHP_i', 'WHP_i_std', # Variables numéricas (con sus respectivas transformaciones)\n",
        "        'pct_dif_D3D', 'pct_dif_D2D', 'pct_dif_DZ', 'pct_dif_WHP_i',          # Variables generadas\n",
        "        'dif_ETAPA_HIJO', 'sen_AZ', 'cos_AZ', 'ant_delta_WHP',                # Variables generadas \n",
        "        ]]\n",
        "\n",
        "y = df_train[['delta_WHP', 'delta_WHP_0']]                                    # Se toman la variable dicotómica y la numérica, para los dos modelos distintos\n",
        "\n",
        "# Se estratifica por la variable 'CAMPO'\n",
        "X_train, X_test, y_train, y_test = train_test_split(X, y, test_size = 0.3, random_state = 21, stratify = X['CAMPO'])"
      ],
      "metadata": {
        "id": "Pp0qHSyEKpKF"
      },
      "execution_count": null,
      "outputs": []
    },
    {
      "cell_type": "markdown",
      "source": [
        "**Nota sobre el tratamiento de features de tipo categórico.**\n",
        "\n",
        "Si bien se pueden realizar distintos tipos de trabajos (crear variables dicotómicas, imputar valores promedio, etc) aprovechamos que la librería catboost ya tiene dentro de su algoritmo introducido un preprocesamiento para este tipo de variables (en líneas generales trabaja con la frecuencia relativa de aparición para cada una de las variables categóricas).\n",
        "\n",
        "https://catboost.ai/en/docs/concepts/algorithm-main-stages_cat-to-numberic\n",
        "\n",
        "Se realizaron pruebas con los otros métodos pero no hay mejoras significativas en los resultados.\n",
        "\n",
        "**Nota sobre los hiperparámetros de ambos modelos (iterations, learning_rate, etc)**\n",
        "\n",
        "La búsqueda de los mismos se realizó por separado y no se presenta ya que no agrega valor sustancial. Si se pusieran los valores default los resultados serían levemente peores. Lo importante es el enfoque y el tratamiento / generación de variables."
      ],
      "metadata": {
        "id": "Thn3BKoezb2L"
      }
    },
    {
      "cell_type": "code",
      "source": [
        "# Modelo binario. Se usa catboost, con lightgbm los resultados son similares\n",
        "\n",
        "pool_bin = Pool(data = X_train, label = y_train['delta_WHP_0'], cat_features = np.arange(4))\n",
        "model_bin = CatBoostClassifier(iterations=350, learning_rate=0.03, depth=9)\n",
        "model_bin.fit(pool_bin, silent=True)"
      ],
      "metadata": {
        "colab": {
          "base_uri": "https://localhost:8080/"
        },
        "id": "j4kR3ZEpLu-z",
        "outputId": "401786b5-c756-4c26-8eac-8e866b726196"
      },
      "execution_count": null,
      "outputs": [
        {
          "output_type": "execute_result",
          "data": {
            "text/plain": [
              "<catboost.core.CatBoostClassifier at 0x7f2927589d90>"
            ]
          },
          "metadata": {},
          "execution_count": 12
        }
      ]
    },
    {
      "cell_type": "code",
      "source": [
        "# Modelo regresivo. Al igual que para el modelo binario, se usa catboost...\n",
        "# Solamente se agrega el score del modelo binario como variable predictora\n",
        "\n",
        "X_train['score_bin'] = model_bin.predict_proba(X_train)[:,1]\n",
        "pool_reg = Pool(data = X_train, label = y_train['delta_WHP'], cat_features = np.arange(4))\n",
        "model_reg = CatBoostRegressor(iterations=350, learning_rate=0.03, depth=9)\n",
        "model_reg.fit(pool_reg, silent=True)"
      ],
      "metadata": {
        "colab": {
          "base_uri": "https://localhost:8080/"
        },
        "id": "x8jMLYttMoqi",
        "outputId": "64ad67a0-c566-49e4-f780-b787189d033b"
      },
      "execution_count": null,
      "outputs": [
        {
          "output_type": "execute_result",
          "data": {
            "text/plain": [
              "<catboost.core.CatBoostRegressor at 0x7f2926e13210>"
            ]
          },
          "metadata": {},
          "execution_count": 13
        }
      ]
    },
    {
      "cell_type": "markdown",
      "source": [
        "## Evaluación del modelo"
      ],
      "metadata": {
        "id": "h74B9DA2p4W_"
      }
    },
    {
      "cell_type": "code",
      "source": [
        "# Se calculan los scores para el 30% de test\n",
        "\n",
        "score_bin_test = model_bin.predict_proba(X_test)[:,1]\n",
        "X_test['score_bin'] = score_bin_test\n",
        "score_reg_test = model_reg.predict(X_test)"
      ],
      "metadata": {
        "id": "ljRM3bkWNcUD"
      },
      "execution_count": null,
      "outputs": []
    },
    {
      "cell_type": "code",
      "source": [
        "# Se imprimen algunas métricas\n",
        "# Vemos que el clasificador supera ampliamente la hipótesis nula (no hay frac-hit con un 88% de accuracy) con un 96%\n",
        "# Para el modelo regresivo se trató de imitar la puntuación de la competencia pero no se pudo, se muestran otras 3 métricas similares\n",
        "\n",
        "print('binario - roc', round(roc_auc_score(y_test['delta_WHP_0'], score_bin_test), 3))\n",
        "print('binario - accuracy', round(accuracy_score(y_test['delta_WHP_0'], np.where(score_bin_test < 0.4, 0, 1)), 3))\n",
        "print('regresión - r2', round(r2_score(y_test['delta_WHP'], score_reg_test), 3))\n",
        "print('regresión - rmse', round(mean_squared_error(y_test['delta_WHP'], score_reg_test) ** 1/2, 3))\n",
        "print('regresión - rmae', round(mean_absolute_error(y_test['delta_WHP'], score_reg_test) ** 1/2, 3))"
      ],
      "metadata": {
        "colab": {
          "base_uri": "https://localhost:8080/"
        },
        "id": "nf6FRS58NxkW",
        "outputId": "0b60ee65-b4ff-4aca-e981-f2fe6461341e"
      },
      "execution_count": null,
      "outputs": [
        {
          "output_type": "stream",
          "name": "stdout",
          "text": [
            "binario - roc 0.981\n",
            "binario - accuracy 0.964\n",
            "regresión - r2 0.485\n",
            "regresión - rmse 16.906\n",
            "regresión - rmae 0.586\n"
          ]
        }
      ]
    },
    {
      "cell_type": "code",
      "source": [
        "# Vemos la distribución del score del modelo binario (cerca de 0 implica \"no frac-hit\", cerca de 1 \"si frac-hit\")\n",
        "# Se evidencia que las proporciones son parecidas al dataset donde hay aprox 88% de eventos \"no frac-hit\"\n",
        "\n",
        "pd.Series(score_bin_test).hist(bins=20)"
      ],
      "metadata": {
        "colab": {
          "base_uri": "https://localhost:8080/",
          "height": 282
        },
        "id": "3ORFypWMDiSS",
        "outputId": "a70a0e81-c90e-4cd9-bce0-ee800614eb20"
      },
      "execution_count": null,
      "outputs": [
        {
          "output_type": "execute_result",
          "data": {
            "text/plain": [
              "<matplotlib.axes._subplots.AxesSubplot at 0x7f2926d3f990>"
            ]
          },
          "metadata": {},
          "execution_count": 16
        },
        {
          "output_type": "display_data",
          "data": {
            "text/plain": [
              "<Figure size 432x288 with 1 Axes>"
            ],
            "image/png": "[encoded data removed]"
          },
          "metadata": {
            "needs_background": "light"
          }
        }
      ]
    },
    {
      "cell_type": "code",
      "source": [
        "# Se imprimen las variables más importantes para el modelo regresivo\n",
        "# Vemos que el valor anterior del delta_WHP y el score_binario son lo más importante\n",
        "\n",
        "pd.Series(model_reg.get_feature_importance(), index=X_test.columns).nlargest(10)"
      ],
      "metadata": {
        "colab": {
          "base_uri": "https://localhost:8080/"
        },
        "id": "CVQGSUGKNaYL",
        "outputId": "a13156d7-6e6f-4ae4-f510-405bd6899c44"
      },
      "execution_count": null,
      "outputs": [
        {
          "output_type": "execute_result",
          "data": {
            "text/plain": [
              "ant_delta_WHP    19.902444\n",
              "score_bin        15.367163\n",
              "ETAPA_HIJO        9.436410\n",
              "DZ                5.882248\n",
              "D2D               5.564900\n",
              "PAD_HIJO          5.304660\n",
              "CAMPO             4.968928\n",
              "D3D               4.757567\n",
              "pct_dif_WHP_i     4.542595\n",
              "WHP_i_std         3.951292\n",
              "dtype: float64"
            ]
          },
          "metadata": {},
          "execution_count": 17
        }
      ]
    },
    {
      "cell_type": "markdown",
      "source": [
        "## Proceso final de scoring"
      ],
      "metadata": {
        "id": "-Ew4Gvr78jET"
      }
    },
    {
      "cell_type": "code",
      "source": [
        "# Se toma el df_total que une el train y evaluación, se eligen las variables utilizadas en el entrenamiento.\n",
        "# Se calculan ambos scores y se genera el dataframe final\n",
        "\n",
        "mask_eval = (df_total['TIPO'] == 'Eval')\n",
        "\n",
        "X_eval = df_total.loc[mask_eval, ['CAMPO', 'PADRE', 'HIJO', 'PAD_HIJO',\n",
        "                                  'FLUIDO', 'LINEAMIENTO', 'ESTADO',\n",
        "                                  'ETAPA_HIJO', 'D3D', 'D2D', 'DZ', '#_BARRERAS', 'WHP_i', 'WHP_i_std',\n",
        "                                  'pct_dif_D3D', 'pct_dif_D2D', 'pct_dif_DZ', 'pct_dif_WHP_i',\n",
        "                                  'dif_ETAPA_HIJO', 'sen_AZ', 'cos_AZ', 'ant_delta_WHP',\n",
        "                                ]]\n",
        "\n",
        "score_bin_eval = model_bin.predict_proba(X_eval)[:,1]\n",
        "X_eval['score_bin'] = score_bin_eval\n",
        "score_reg_eval = model_reg.predict(X_eval)\n",
        "\n",
        "df_final = pd.DataFrame(score_reg_eval, index=X_eval.index, columns=['reg'])\n",
        "df_final['bin'] = score_bin_eval\n",
        "df_final['ID_FILA'] = df_total['ID_FILA']\n",
        "df_final['score_final'] = np.where(df_final['bin'] < 0.4, 0, df_final['reg'])\n",
        "df_final.head()"
      ],
      "metadata": {
        "colab": {
          "base_uri": "https://localhost:8080/",
          "height": 206
        },
        "id": "v2JNu-paPWKw",
        "outputId": "6db9bde7-1a68-4469-c2f9-4461c206d429"
      },
      "execution_count": null,
      "outputs": [
        {
          "output_type": "execute_result",
          "data": {
            "text/plain": [
              "          reg       bin  ID_FILA  score_final\n",
              "13   3.156267  0.990528    31198     3.156267\n",
              "16  13.911820  0.996891    31023    13.911820\n",
              "27   2.052787  0.979326    31863     2.052787\n",
              "28  12.220877  0.994554    30877    12.220877\n",
              "30   8.895334  0.996478    30928     8.895334"
            ],
            "text/html": [
              "\n",
              "  <div id=\"df-5668ce34-2193-4ea6-a416-08fdcf21b0e3\">\n",
              "    <div class=\"colab-df-container\">\n",
              "      <div>\n",
              "<style scoped>\n",
              "    .dataframe tbody tr th:only-of-type {\n",
              "        vertical-align: middle;\n",
              "    }\n",
              "\n",
              "    .dataframe tbody tr th {\n",
              "        vertical-align: top;\n",
              "    }\n",
              "\n",
              "    .dataframe thead th {\n",
              "        text-align: right;\n",
              "    }\n",
              "</style>\n",
              "<table border=\"1\" class=\"dataframe\">\n",
              "  <thead>\n",
              "    <tr style=\"text-align: right;\">\n",
              "      <th></th>\n",
              "      <th>reg</th>\n",
              "      <th>bin</th>\n",
              "      <th>ID_FILA</th>\n",
              "      <th>score_final</th>\n",
              "    </tr>\n",
              "  </thead>\n",
              "  <tbody>\n",
              "    <tr>\n",
              "      <th>13</th>\n",
              "      <td>3.156267</td>\n",
              "      <td>0.990528</td>\n",
              "      <td>31198</td>\n",
              "      <td>3.156267</td>\n",
              "    </tr>\n",
              "    <tr>\n",
              "      <th>16</th>\n",
              "      <td>13.911820</td>\n",
              "      <td>0.996891</td>\n",
              "      <td>31023</td>\n",
              "      <td>13.911820</td>\n",
              "    </tr>\n",
              "    <tr>\n",
              "      <th>27</th>\n",
              "      <td>2.052787</td>\n",
              "      <td>0.979326</td>\n",
              "      <td>31863</td>\n",
              "      <td>2.052787</td>\n",
              "    </tr>\n",
              "    <tr>\n",
              "      <th>28</th>\n",
              "      <td>12.220877</td>\n",
              "      <td>0.994554</td>\n",
              "      <td>30877</td>\n",
              "      <td>12.220877</td>\n",
              "    </tr>\n",
              "    <tr>\n",
              "      <th>30</th>\n",
              "      <td>8.895334</td>\n",
              "      <td>0.996478</td>\n",
              "      <td>30928</td>\n",
              "      <td>8.895334</td>\n",
              "    </tr>\n",
              "  </tbody>\n",
              "</table>\n",
              "</div>\n",
              "      <button class=\"colab-df-convert\" onclick=\"convertToInteractive('df-5668ce34-2193-4ea6-a416-08fdcf21b0e3')\"\n",
              "              title=\"Convert this dataframe to an interactive table.\"\n",
              "              style=\"display:none;\">\n",
              "        \n",
              "  <svg xmlns=\"http://www.w3.org/2000/svg\" height=\"24px\"viewBox=\"0 0 24 24\"\n",
              "       width=\"24px\">\n",
              "    <path d=\"M0 0h24v24H0V0z\" fill=\"none\"/>\n",
              "    <path d=\"M18.56 5.44l.94 2.06.94-2.06 2.06-.94-2.06-.94-.94-2.06-.94 2.06-2.06.94zm-11 1L8.5 8.5l.94-2.06 2.06-.94-2.06-.94L8.5 2.5l-.94 2.06-2.06.94zm10 10l.94 2.06.94-2.06 2.06-.94-2.06-.94-.94-2.06-.94 2.06-2.06.94z\"/><path d=\"M17.41 7.96l-1.37-1.37c-.4-.4-.92-.59-1.43-.59-.52 0-1.04.2-1.43.59L10.3 9.45l-7.72 7.72c-.78.78-.78 2.05 0 2.83L4 21.41c.39.39.9.59 1.41.59.51 0 1.02-.2 1.41-.59l7.78-7.78 2.81-2.81c.8-.78.8-2.07 0-2.86zM5.41 20L4 18.59l7.72-7.72 1.47 1.35L5.41 20z\"/>\n",
              "  </svg>\n",
              "      </button>\n",
              "      \n",
              "  <style>\n",
              "    .colab-df-container {\n",
              "      display:flex;\n",
              "      flex-wrap:wrap;\n",
              "      gap: 12px;\n",
              "    }\n",
              "\n",
              "    .colab-df-convert {\n",
              "      background-color: #E8F0FE;\n",
              "      border: none;\n",
              "      border-radius: 50%;\n",
              "      cursor: pointer;\n",
              "      display: none;\n",
              "      fill: #1967D2;\n",
              "      height: 32px;\n",
              "      padding: 0 0 0 0;\n",
              "      width: 32px;\n",
              "    }\n",
              "\n",
              "    .colab-df-convert:hover {\n",
              "      background-color: #E2EBFA;\n",
              "      box-shadow: 0px 1px 2px rgba(60, 64, 67, 0.3), 0px 1px 3px 1px rgba(60, 64, 67, 0.15);\n",
              "      fill: #174EA6;\n",
              "    }\n",
              "\n",
              "    [theme=dark] .colab-df-convert {\n",
              "      background-color: #3B4455;\n",
              "      fill: #D2E3FC;\n",
              "    }\n",
              "\n",
              "    [theme=dark] .colab-df-convert:hover {\n",
              "      background-color: #434B5C;\n",
              "      box-shadow: 0px 1px 3px 1px rgba(0, 0, 0, 0.15);\n",
              "      filter: drop-shadow(0px 1px 2px rgba(0, 0, 0, 0.3));\n",
              "      fill: #FFFFFF;\n",
              "    }\n",
              "  </style>\n",
              "\n",
              "      <script>\n",
              "        const buttonEl =\n",
              "          document.querySelector('#df-5668ce34-2193-4ea6-a416-08fdcf21b0e3 button.colab-df-convert');\n",
              "        buttonEl.style.display =\n",
              "          google.colab.kernel.accessAllowed ? 'block' : 'none';\n",
              "\n",
              "        async function convertToInteractive(key) {\n",
              "          const element = document.querySelector('#df-5668ce34-2193-4ea6-a416-08fdcf21b0e3');\n",
              "          const dataTable =\n",
              "            await google.colab.kernel.invokeFunction('convertToInteractive',\n",
              "                                                     [key], {});\n",
              "          if (!dataTable) return;\n",
              "\n",
              "          const docLinkHtml = 'Like what you see? Visit the ' +\n",
              "            '<a target=\"_blank\" href=https://colab.research.google.com/notebooks/data_table.ipynb>data table notebook</a>'\n",
              "            + ' to learn more about interactive tables.';\n",
              "          element.innerHTML = '';\n",
              "          dataTable['output_type'] = 'display_data';\n",
              "          await google.colab.output.renderOutput(dataTable, element);\n",
              "          const docLink = document.createElement('div');\n",
              "          docLink.innerHTML = docLinkHtml;\n",
              "          element.appendChild(docLink);\n",
              "        }\n",
              "      </script>\n",
              "    </div>\n",
              "  </div>\n",
              "  "
            ]
          },
          "metadata": {},
          "execution_count": 18
        }
      ]
    },
    {
      "cell_type": "markdown",
      "source": [
        "Se exporta el CSV con el score final teniendo en cuenta ambos modelos"
      ],
      "metadata": {
        "id": "YJddcthviYt_"
      }
    },
    {
      "cell_type": "code",
      "source": [
        "# Acá termina lo \"útil\" solo queda exportar el CSV\n",
        "# La puntuación final con este modelo es de 0.84\n",
        "\n",
        "df_final[['ID_FILA', 'score_final']].to_csv('predicciones.csv', header=False, index=False)"
      ],
      "metadata": {
        "id": "sFPacIpDiY88"
      },
      "execution_count": null,
      "outputs": []
    },
    {
      "cell_type": "markdown",
      "source": [
        "Se genera el otro CSV que es el que se utiliza con el fin de tener mejor puntuación.\n",
        "\n",
        "Dado que en el 1° meetup surgió la pregunta de si se podía usar información futura (delta_WHP de una ETAPA_HIJO posterior a la que se está evaluando) para predecir el delta_WHP y desde YPF dijeron que \"sí\"... Vamos a aprovechar para mejorar un poco el score..."
      ],
      "metadata": {
        "id": "_DHFUTv9i0HW"
      }
    },
    {
      "cell_type": "code",
      "source": [
        "# Al score_final lo vamos a promediar con la media_movil y los valores anteriores / posteriores de delta_WHP\n",
        "# Este nuevo score_trampita tiene un puntaje de 0.75\n",
        "\n",
        "df_final['media_movil_delta_WHP'] = df_total['media_movil_delta_WHP']\n",
        "df_final['pos_delta_WHP'] = df_total['pos_delta_WHP']\n",
        "df_final['ant_delta_WHP'] = df_total['ant_delta_WHP']\n",
        "df_final['score_trampita'] = np.where(df_final['bin'] < 0.4,\n",
        "                                      0,\n",
        "                                      np.where(pd.isna(df_final['media_movil_delta_WHP']),\n",
        "                                               np.where(pd.isna(df_final['ant_delta_WHP']),\n",
        "                                                        np.where(pd.isna(df_final['pos_delta_WHP']),\n",
        "                                                                 df_final['score_final'],\n",
        "                                                                 (df_final['score_final'] * 0.2 + df_final['pos_delta_WHP'] * 0.8)),\n",
        "                                                        (df_final['score_final'] * 0.2 + df_final['ant_delta_WHP'] * 0.8)),\n",
        "                                               (df_final['score_final'] * 0.2 + df_final['media_movil_delta_WHP'] * 0.8)))\n",
        "\n",
        "df_final[['ID_FILA', 'score_trampita']].to_csv('predicciones_trampita.csv', header=False, index=False)\n",
        "df_final[['ID_FILA', 'score_trampita']].head()"
      ],
      "metadata": {
        "colab": {
          "base_uri": "https://localhost:8080/",
          "height": 206
        },
        "id": "tu6VfWKAO8wz",
        "outputId": "c2787324-0d7a-420f-9d98-19dd97bb2dd8"
      },
      "execution_count": null,
      "outputs": [
        {
          "output_type": "execute_result",
          "data": {
            "text/plain": [
              "    ID_FILA  score_trampita\n",
              "13    31198        1.351253\n",
              "16    31023       12.382364\n",
              "27    31863        3.050557\n",
              "28    30877        9.804175\n",
              "30    30928        6.259067"
            ],
            "text/html": [
              "\n",
              "  <div id=\"df-1a52d2a5-8802-44ca-a88f-c138709e3bc8\">\n",
              "    <div class=\"colab-df-container\">\n",
              "      <div>\n",
              "<style scoped>\n",
              "    .dataframe tbody tr th:only-of-type {\n",
              "        vertical-align: middle;\n",
              "    }\n",
              "\n",
              "    .dataframe tbody tr th {\n",
              "        vertical-align: top;\n",
              "    }\n",
              "\n",
              "    .dataframe thead th {\n",
              "        text-align: right;\n",
              "    }\n",
              "</style>\n",
              "<table border=\"1\" class=\"dataframe\">\n",
              "  <thead>\n",
              "    <tr style=\"text-align: right;\">\n",
              "      <th></th>\n",
              "      <th>ID_FILA</th>\n",
              "      <th>score_trampita</th>\n",
              "    </tr>\n",
              "  </thead>\n",
              "  <tbody>\n",
              "    <tr>\n",
              "      <th>13</th>\n",
              "      <td>31198</td>\n",
              "      <td>1.351253</td>\n",
              "    </tr>\n",
              "    <tr>\n",
              "      <th>16</th>\n",
              "      <td>31023</td>\n",
              "      <td>12.382364</td>\n",
              "    </tr>\n",
              "    <tr>\n",
              "      <th>27</th>\n",
              "      <td>31863</td>\n",
              "      <td>3.050557</td>\n",
              "    </tr>\n",
              "    <tr>\n",
              "      <th>28</th>\n",
              "      <td>30877</td>\n",
              "      <td>9.804175</td>\n",
              "    </tr>\n",
              "    <tr>\n",
              "      <th>30</th>\n",
              "      <td>30928</td>\n",
              "      <td>6.259067</td>\n",
              "    </tr>\n",
              "  </tbody>\n",
              "</table>\n",
              "</div>\n",
              "      <button class=\"colab-df-convert\" onclick=\"convertToInteractive('df-1a52d2a5-8802-44ca-a88f-c138709e3bc8')\"\n",
              "              title=\"Convert this dataframe to an interactive table.\"\n",
              "              style=\"display:none;\">\n",
              "        \n",
              "  <svg xmlns=\"http://www.w3.org/2000/svg\" height=\"24px\"viewBox=\"0 0 24 24\"\n",
              "       width=\"24px\">\n",
              "    <path d=\"M0 0h24v24H0V0z\" fill=\"none\"/>\n",
              "    <path d=\"M18.56 5.44l.94 2.06.94-2.06 2.06-.94-2.06-.94-.94-2.06-.94 2.06-2.06.94zm-11 1L8.5 8.5l.94-2.06 2.06-.94-2.06-.94L8.5 2.5l-.94 2.06-2.06.94zm10 10l.94 2.06.94-2.06 2.06-.94-2.06-.94-.94-2.06-.94 2.06-2.06.94z\"/><path d=\"M17.41 7.96l-1.37-1.37c-.4-.4-.92-.59-1.43-.59-.52 0-1.04.2-1.43.59L10.3 9.45l-7.72 7.72c-.78.78-.78 2.05 0 2.83L4 21.41c.39.39.9.59 1.41.59.51 0 1.02-.2 1.41-.59l7.78-7.78 2.81-2.81c.8-.78.8-2.07 0-2.86zM5.41 20L4 18.59l7.72-7.72 1.47 1.35L5.41 20z\"/>\n",
              "  </svg>\n",
              "      </button>\n",
              "      \n",
              "  <style>\n",
              "    .colab-df-container {\n",
              "      display:flex;\n",
              "      flex-wrap:wrap;\n",
              "      gap: 12px;\n",
              "    }\n",
              "\n",
              "    .colab-df-convert {\n",
              "      background-color: #E8F0FE;\n",
              "      border: none;\n",
              "      border-radius: 50%;\n",
              "      cursor: pointer;\n",
              "      display: none;\n",
              "      fill: #1967D2;\n",
              "      height: 32px;\n",
              "      padding: 0 0 0 0;\n",
              "      width: 32px;\n",
              "    }\n",
              "\n",
              "    .colab-df-convert:hover {\n",
              "      background-color: #E2EBFA;\n",
              "      box-shadow: 0px 1px 2px rgba(60, 64, 67, 0.3), 0px 1px 3px 1px rgba(60, 64, 67, 0.15);\n",
              "      fill: #174EA6;\n",
              "    }\n",
              "\n",
              "    [theme=dark] .colab-df-convert {\n",
              "      background-color: #3B4455;\n",
              "      fill: #D2E3FC;\n",
              "    }\n",
              "\n",
              "    [theme=dark] .colab-df-convert:hover {\n",
              "      background-color: #434B5C;\n",
              "      box-shadow: 0px 1px 3px 1px rgba(0, 0, 0, 0.15);\n",
              "      filter: drop-shadow(0px 1px 2px rgba(0, 0, 0, 0.3));\n",
              "      fill: #FFFFFF;\n",
              "    }\n",
              "  </style>\n",
              "\n",
              "      <script>\n",
              "        const buttonEl =\n",
              "          document.querySelector('#df-1a52d2a5-8802-44ca-a88f-c138709e3bc8 button.colab-df-convert');\n",
              "        buttonEl.style.display =\n",
              "          google.colab.kernel.accessAllowed ? 'block' : 'none';\n",
              "\n",
              "        async function convertToInteractive(key) {\n",
              "          const element = document.querySelector('#df-1a52d2a5-8802-44ca-a88f-c138709e3bc8');\n",
              "          const dataTable =\n",
              "            await google.colab.kernel.invokeFunction('convertToInteractive',\n",
              "                                                     [key], {});\n",
              "          if (!dataTable) return;\n",
              "\n",
              "          const docLinkHtml = 'Like what you see? Visit the ' +\n",
              "            '<a target=\"_blank\" href=https://colab.research.google.com/notebooks/data_table.ipynb>data table notebook</a>'\n",
              "            + ' to learn more about interactive tables.';\n",
              "          element.innerHTML = '';\n",
              "          dataTable['output_type'] = 'display_data';\n",
              "          await google.colab.output.renderOutput(dataTable, element);\n",
              "          const docLink = document.createElement('div');\n",
              "          docLink.innerHTML = docLinkHtml;\n",
              "          element.appendChild(docLink);\n",
              "        }\n",
              "      </script>\n",
              "    </div>\n",
              "  </div>\n",
              "  "
            ]
          },
          "metadata": {},
          "execution_count": 20
        }
      ]
    }
  ]
}